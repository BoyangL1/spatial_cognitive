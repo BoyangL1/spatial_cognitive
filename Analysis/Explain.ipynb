{
 "cells": [
  {
   "cell_type": "code",
   "execution_count": 3,
   "metadata": {},
   "outputs": [
    {
     "name": "stdout",
     "output_type": "stream",
     "text": [
      "e:\\Programming\\Python\\project_GeoNeuro\\project_moires\\spatial_cognition_moire\n"
     ]
    }
   ],
   "source": [
    "import sys, os\n",
    "# ref 这波是改工作目录，默认为ipynb文件所在目录\n",
    "os.chdir(os.path.abspath('..'))\n",
    "print(os.getcwd())"
   ]
  },
  {
   "cell_type": "code",
   "execution_count": 4,
   "metadata": {},
   "outputs": [
    {
     "data": {
      "text/plain": [
       "['e:\\\\Programming\\\\Python\\\\project_GeoNeuro\\\\project_moires\\\\spatial_cognition_moire\\\\Analysis',\n",
       " 'd:\\\\Application\\\\Conda\\\\envs\\\\geoneuro\\\\python39.zip',\n",
       " 'd:\\\\Application\\\\Conda\\\\envs\\\\geoneuro\\\\DLLs',\n",
       " 'd:\\\\Application\\\\Conda\\\\envs\\\\geoneuro\\\\lib',\n",
       " 'd:\\\\Application\\\\Conda\\\\envs\\\\geoneuro',\n",
       " '',\n",
       " 'd:\\\\Application\\\\Conda\\\\envs\\\\geoneuro\\\\lib\\\\site-packages',\n",
       " 'd:\\\\Application\\\\Conda\\\\envs\\\\geoneuro\\\\lib\\\\site-packages\\\\win32',\n",
       " 'd:\\\\Application\\\\Conda\\\\envs\\\\geoneuro\\\\lib\\\\site-packages\\\\win32\\\\lib',\n",
       " 'd:\\\\Application\\\\Conda\\\\envs\\\\geoneuro\\\\lib\\\\site-packages\\\\Pythonwin']"
      ]
     },
     "execution_count": 4,
     "metadata": {},
     "output_type": "execute_result"
    }
   ],
   "source": [
    "sys.path"
   ]
  },
  {
   "cell_type": "code",
   "execution_count": 5,
   "metadata": {},
   "outputs": [
    {
     "data": {
      "text/plain": [
       "['e:\\\\Programming\\\\Python\\\\project_GeoNeuro\\\\project_moires\\\\spatial_cognition_moire\\\\Analysis',\n",
       " 'd:\\\\Application\\\\Conda\\\\envs\\\\geoneuro\\\\python39.zip',\n",
       " 'd:\\\\Application\\\\Conda\\\\envs\\\\geoneuro\\\\DLLs',\n",
       " 'd:\\\\Application\\\\Conda\\\\envs\\\\geoneuro\\\\lib',\n",
       " 'd:\\\\Application\\\\Conda\\\\envs\\\\geoneuro',\n",
       " '',\n",
       " 'd:\\\\Application\\\\Conda\\\\envs\\\\geoneuro\\\\lib\\\\site-packages',\n",
       " 'd:\\\\Application\\\\Conda\\\\envs\\\\geoneuro\\\\lib\\\\site-packages\\\\win32',\n",
       " 'd:\\\\Application\\\\Conda\\\\envs\\\\geoneuro\\\\lib\\\\site-packages\\\\win32\\\\lib',\n",
       " 'd:\\\\Application\\\\Conda\\\\envs\\\\geoneuro\\\\lib\\\\site-packages\\\\Pythonwin',\n",
       " 'e:\\\\Programming\\\\Python\\\\project_GeoNeuro\\\\project_moires\\\\spatial_cognition_moire']"
      ]
     },
     "execution_count": 5,
     "metadata": {},
     "output_type": "execute_result"
    }
   ],
   "source": [
    "import shap\n",
    "# ref 和Python文件不一样，jupyter会自动检索工作目录的模块，如果存在则自动添加到sys.path中，不需要手动添加\n",
    "import packFuncForShap as pack4shap\n",
    "sys.path"
   ]
  },
  {
   "cell_type": "code",
   "execution_count": 6,
   "metadata": {},
   "outputs": [],
   "source": [
    "from functools import partial\n",
    "import numpy as np\n",
    "from datetime import date, timedelta"
   ]
  },
  {
   "cell_type": "code",
   "execution_count": 7,
   "metadata": {},
   "outputs": [
    {
     "data": {
      "text/plain": [
       "<module 'packFuncForShap' from 'e:\\\\Programming\\\\Python\\\\project_GeoNeuro\\\\project_moires\\\\spatial_cognition_moire\\\\Analysis\\\\packFuncForShap.py'>"
      ]
     },
     "execution_count": 7,
     "metadata": {},
     "output_type": "execute_result"
    }
   ],
   "source": [
    "import importlib\n",
    "importlib.reload(pack4shap)"
   ]
  },
  {
   "cell_type": "code",
   "execution_count": 25,
   "metadata": {},
   "outputs": [
    {
     "name": "stdout",
     "output_type": "stream",
     "text": [
      "20190707\n"
     ]
    }
   ],
   "source": [
    "migration = pack4shap.migrationDate()\n",
    "print(migration)\n",
    "start_date = date(2019, 7, 6)\n",
    "end_date = date(2019, 12, 31)\n",
    "\n",
    "current_date = start_date\n",
    "date_list = []\n",
    "# 循环直到当前日期超过结束日期\n",
    "while current_date <= end_date:\n",
    "    current_datestr = current_date.strftime('%Y%m%d')\n",
    "    current_date_int = int(current_datestr)\n",
    "    date_list.append(current_date_int)\n",
    "    # 将当前日期递增7天\n",
    "    current_date += timedelta(days=7)"
   ]
  },
  {
   "cell_type": "code",
   "execution_count": 1,
   "metadata": {},
   "outputs": [],
   "source": [
    "date_list = [20190728, 20190803, 20190810, 20190817, 20190824, 20190831, 20190907, 20190914, \n",
    "             20190921, 20190928, 20191005, 20191012, 20191019, 20191026, 20191102, 20191109, 20191116, 20191123, 20191130, \n",
    "             20191207, 20191214, 20191221, 20191228]"
   ]
  },
  {
   "cell_type": "code",
   "execution_count": 34,
   "metadata": {},
   "outputs": [
    {
     "name": "stdout",
     "output_type": "stream",
     "text": [
      "Iteration date: 20190728\n",
      "(167, 10, 2, 14) (167, 10, 2, 1) (167, 10, 2, 42)\n",
      "load params from ./data_pe/after_migrt/model/20190728.pickle!\n",
      "Data with 210 rows\n"
     ]
    },
    {
     "name": "stderr",
     "output_type": "stream",
     "text": [
      "PermutationExplainer explainer: 211it [20:27,  5.87s/it]                         \n"
     ]
    },
    {
     "name": "stdout",
     "output_type": "stream",
     "text": [
      "Iteration date: 20190803\n",
      "(167, 10, 2, 14) (167, 10, 2, 1) (167, 10, 2, 42)\n",
      "load params from ./data_pe/after_migrt/model/20190803.pickle!\n",
      "Data with 224 rows\n"
     ]
    },
    {
     "name": "stderr",
     "output_type": "stream",
     "text": [
      "PermutationExplainer explainer: 225it [22:00,  5.95s/it]                         \n"
     ]
    },
    {
     "name": "stdout",
     "output_type": "stream",
     "text": [
      "Iteration date: 20190810\n",
      "(167, 10, 2, 14) (167, 10, 2, 1) (167, 10, 2, 42)\n",
      "load params from ./data_pe/after_migrt/model/20190810.pickle!\n",
      "Data with 234 rows\n"
     ]
    },
    {
     "name": "stderr",
     "output_type": "stream",
     "text": [
      "PermutationExplainer explainer: 235it [22:30,  5.80s/it]                         \n"
     ]
    },
    {
     "name": "stdout",
     "output_type": "stream",
     "text": [
      "Iteration date: 20190817\n",
      "(167, 10, 2, 14) (167, 10, 2, 1) (167, 10, 2, 42)\n",
      "load params from ./data_pe/after_migrt/model/20190817.pickle!\n",
      "Data with 244 rows\n"
     ]
    },
    {
     "name": "stderr",
     "output_type": "stream",
     "text": [
      "PermutationExplainer explainer: 245it [23:58,  5.95s/it]                         \n"
     ]
    },
    {
     "name": "stdout",
     "output_type": "stream",
     "text": [
      "Iteration date: 20190824\n",
      "(167, 10, 2, 14) (167, 10, 2, 1) (167, 10, 2, 42)\n",
      "load params from ./data_pe/after_migrt/model/20190824.pickle!\n",
      "Data with 248 rows\n"
     ]
    },
    {
     "name": "stderr",
     "output_type": "stream",
     "text": [
      "PermutationExplainer explainer:  88%|████████▊ | 218/248 [21:26<03:18,  6.63s/it]"
     ]
    }
   ],
   "source": [
    "shap_calculates = dict()\n",
    "\n",
    "for date in date_list:\n",
    "    print('Iteration date: {date}'.format(date=date))\n",
    "    path = './data_pe/after_migrt/model/{date}.pickle'.format(date=date)\n",
    "\n",
    "    model = pack4shap.loadModel(path=path)\n",
    "    modelPredWrapper = partial(pack4shap.modelPredict, model=model, attribute_type='reward')\n",
    "\n",
    "    dataset = pack4shap.backgroundData(date = date)\n",
    "    dataset = np.unique(dataset, axis=0)\n",
    "    print('Data with {k} rows'.format(k=dataset.shape[0]))\n",
    "\n",
    "    zero_bench = np.zeros(dataset.shape[1]).reshape(1, -1)\n",
    "    mean_bench = np.mean(dataset, axis=0).reshape(1, -1)\n",
    "\n",
    "    explainer = shap.PermutationExplainer(modelPredWrapper, zero_bench)\n",
    "    shap_values = explainer(dataset)\n",
    "    basevalue = shap_values.base_values.mean()\n",
    "    shap_mean = np.abs(shap_values.values).mean(axis=0)\n",
    "    shap_be = shap_mean[:14].sum()\n",
    "    shap_pe = shap_mean[14:].sum()\n",
    "    res = (basevalue, shap_be, shap_pe)\n",
    "\n",
    "    shap_calculates[date] = res\n"
   ]
  },
  {
   "cell_type": "code",
   "execution_count": 21,
   "metadata": {},
   "outputs": [
    {
     "ename": "EOFError",
     "evalue": "Ran out of input",
     "output_type": "error",
     "traceback": [
      "\u001b[1;31m---------------------------------------------------------------------------\u001b[0m",
      "\u001b[1;31mEOFError\u001b[0m                                  Traceback (most recent call last)",
      "Cell \u001b[1;32mIn[21], line 4\u001b[0m\n\u001b[0;32m      2\u001b[0m \u001b[38;5;28;01mwith\u001b[39;00m \u001b[38;5;28mopen\u001b[39m(\u001b[38;5;124m'\u001b[39m\u001b[38;5;124m./Analysis/shap_values.pkl\u001b[39m\u001b[38;5;124m'\u001b[39m, \u001b[38;5;124m'\u001b[39m\u001b[38;5;124mrb\u001b[39m\u001b[38;5;124m'\u001b[39m) \u001b[38;5;28;01mas\u001b[39;00m f:\n\u001b[0;32m      3\u001b[0m     unpickler \u001b[38;5;241m=\u001b[39m pickle\u001b[38;5;241m.\u001b[39mUnpickler(f)\n\u001b[1;32m----> 4\u001b[0m     shap_values \u001b[38;5;241m=\u001b[39m \u001b[43mpickle\u001b[49m\u001b[38;5;241;43m.\u001b[39;49m\u001b[43mload\u001b[49m\u001b[43m(\u001b[49m\u001b[43mf\u001b[49m\u001b[43m)\u001b[49m\n",
      "\u001b[1;31mEOFError\u001b[0m: Ran out of input"
     ]
    }
   ],
   "source": [
    "import pickle\n",
    "with open('./Analysis/shap_values.pkl', 'rb') as f:\n",
    "    unpickler = pickle.Unpickler(f)\n",
    "    shap_values = pickle.load(f)"
   ]
  },
  {
   "cell_type": "code",
   "execution_count": 51,
   "metadata": {},
   "outputs": [],
   "source": [
    "# shap.summary_plot(shap_values, dataset, plot_type=\"bar\")"
   ]
  }
 ],
 "metadata": {
  "kernelspec": {
   "display_name": "geoneuro",
   "language": "python",
   "name": "python3"
  },
  "language_info": {
   "codemirror_mode": {
    "name": "ipython",
    "version": 3
   },
   "file_extension": ".py",
   "mimetype": "text/x-python",
   "name": "python",
   "nbconvert_exporter": "python",
   "pygments_lexer": "ipython3",
   "version": "3.9.18"
  }
 },
 "nbformat": 4,
 "nbformat_minor": 2
}
