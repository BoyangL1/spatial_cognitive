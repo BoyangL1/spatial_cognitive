{
 "cells": [
  {
   "cell_type": "code",
   "execution_count": null,
   "metadata": {},
   "outputs": [],
   "source": [
    "import os"
   ]
  },
  {
   "cell_type": "code",
   "execution_count": null,
   "metadata": {},
   "outputs": [],
   "source": [
    "working_dir = os.path.dirname(os.getcwd())\n",
    "os.chdir(working_dir)"
   ]
  },
  {
   "cell_type": "code",
   "execution_count": 1,
   "metadata": {},
   "outputs": [],
   "source": [
    "import pandas as pd\n",
    "import numpy as np\n",
    "import geopandas as gpd"
   ]
  },
  {
   "cell_type": "code",
   "execution_count": 23,
   "metadata": {},
   "outputs": [],
   "source": [
    "readpath = './data/'\n",
    "\n",
    "be = pd.read_csv(readpath + 'featureset.csv')\n",
    "# count distinct dates for each user\n",
    "userlist = be['pid'].unique()"
   ]
  },
  {
   "cell_type": "code",
   "execution_count": 24,
   "metadata": {},
   "outputs": [],
   "source": [
    "be.rename(columns={'pid': 'who'}, inplace=True)"
   ]
  },
  {
   "cell_type": "code",
   "execution_count": 27,
   "metadata": {},
   "outputs": [],
   "source": [
    "be = be.assign(t_start = pd.to_datetime(be['t_start']),\n",
    "          t_end = pd.to_datetime(be['t_end']))"
   ]
  },
  {
   "cell_type": "markdown",
   "metadata": {},
   "source": [
    "# Chain Calculation for each user"
   ]
  },
  {
   "cell_type": "code",
   "execution_count": 36,
   "metadata": {},
   "outputs": [],
   "source": [
    "be['date'] = be.t_start.dt.date"
   ]
  },
  {
   "cell_type": "code",
   "execution_count": 40,
   "metadata": {},
   "outputs": [],
   "source": [
    "be = be.groupby(['who', 'date']).apply(lambda df: df.sort_values('t_start'))\n",
    "be['seiqd'] = be.groupby(['who', 'date']).cumcount()"
   ]
  },
  {
   "cell_type": "code",
   "execution_count": 68,
   "metadata": {},
   "outputs": [],
   "source": [
    "columns = ['who','date', 'seiqd', 't_start', 't_end', 'poi_id', 'longitude', 'latitude', 'X', 'Y',\n",
    "       'ptype', 'fnid', 'chess_x', 'chess_y', 'LU_Business', 'LU_City_Road',\n",
    "       'LU_Consumption', 'LU_Culture', 'LU_Industry', 'LU_Medical',\n",
    "       'LU_Park_&_Scenery', 'LU_Public', 'LU_Residence',\n",
    "       'LU_Science_&_Education', 'LU_Special', 'LU_Transportation', 'LU_Wild']\n",
    "\n",
    "be = be.reindex(columns=columns)\n",
    "# convert the date to integer as %Y%m%d format\n",
    "be['date'] = be['date'].apply(lambda x: int(x.strftime('%Y%m%d')))"
   ]
  },
  {
   "cell_type": "code",
   "execution_count": 70,
   "metadata": {},
   "outputs": [],
   "source": [
    "be.to_csv(readpath + 'featureset.csv', index=False)  "
   ]
  },
  {
   "cell_type": "code",
   "execution_count": 58,
   "metadata": {},
   "outputs": [],
   "source": [
    "# deprecated: below\n",
    "def act2travel(act_data):\n",
    "    data = {\n",
    "        'seiqd': act_data['seiqd'][1:].values,\n",
    "        'poi_o': act_data['poi_id'][:-1].values,\n",
    "        'poi_d': act_data['poi_id'][1:].values,\n",
    "        'org_chess_x': act_data['chess_x'][:-1].values,\n",
    "        'org_chess_y': act_data['chess_y'][:-1].values,\n",
    "        'des_chess_x': act_data['chess_x'][1:].values,\n",
    "        'des_chess_y': act_data['chess_y'][1:].values,\n",
    "        'lambda_o': act_data['longitude'][:-1].values,\n",
    "        'phi_o': act_data['latitude'][:-1].values,\n",
    "        'lambda_d': act_data['longitude'][1:].values,\n",
    "        'phi_d': act_data['latitude'][1:].values,\n",
    "    }\n",
    "    lu_attr = act_data.loc[:,act_data.columns.str.startswith('LU_')]\n",
    "    lu_attr = lu_attr[1:]\n",
    "    res = pd.concat([pd.DataFrame(data=data).reset_index(drop=True), lu_attr.reset_index(drop=True)], axis=1)\n",
    "    return res\n",
    "\n",
    "be_grouped = be.groupby(['who', 'date'])\n",
    "be_group = be_grouped.apply(act2travel)\n",
    "be_group"
   ]
  }
 ],
 "metadata": {
  "kernelspec": {
   "display_name": "geoneuro",
   "language": "python",
   "name": "python3"
  },
  "language_info": {
   "codemirror_mode": {
    "name": "ipython",
    "version": 3
   },
   "file_extension": ".py",
   "mimetype": "text/x-python",
   "name": "python",
   "nbconvert_exporter": "python",
   "pygments_lexer": "ipython3",
   "version": "3.8.12"
  }
 },
 "nbformat": 4,
 "nbformat_minor": 2
}
