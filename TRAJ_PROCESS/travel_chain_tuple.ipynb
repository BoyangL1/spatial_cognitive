{
 "cells": [
  {
   "cell_type": "code",
   "execution_count": 1,
   "metadata": {},
   "outputs": [],
   "source": [
    "import pandas as pd\n",
    "import numpy as np\n",
    "import json\n",
    "from collections import namedtuple\n",
    "import pickle"
   ]
  },
  {
   "cell_type": "code",
   "execution_count": 2,
   "metadata": {},
   "outputs": [],
   "source": [
    "df = pd.read_csv('../data/one_travel_chain_time.csv')\n",
    "b_m = df[df['date']<df['migrt']]\n",
    "a_m = df[df['date']>df['migrt']]\n",
    "b_m.to_csv(\"../data/one_travel_chain_before.csv\",index=False)\n",
    "a_m.to_csv(\"../data/one_travel_chain_after.csv\",index=False)"
   ]
  },
  {
   "cell_type": "code",
   "execution_count": null,
   "metadata": {},
   "outputs": [],
   "source": [
    "unique_grid_ids = pd.unique(df[['grid_id_o', 'grid_id_d']].values.ravel('K'))\n",
    "\n",
    "# using factorize function to apply new unique id\n",
    "new_codes, unique = pd.factorize(unique_grid_ids, sort=True)\n",
    "grid_id_mapping = dict(zip(unique, new_codes))\n",
    "\n",
    "df['grid_new_o'] = df['grid_id_o'].map(grid_id_mapping)\n",
    "df['grid_new_d'] = df['grid_id_d'].map(grid_id_mapping)\n",
    "df.head(2)"
   ]
  },
  {
   "cell_type": "code",
   "execution_count": 3,
   "metadata": {},
   "outputs": [],
   "source": [
    "id_fnid_mapping = dict(zip(new_codes,unique))\n",
    "with open(\"../data/id_fnid_mapping.pkl\", \"wb\") as f:\n",
    "    pickle.dump(id_fnid_mapping, f)"
   ]
  },
  {
   "cell_type": "code",
   "execution_count": 4,
   "metadata": {},
   "outputs": [],
   "source": [
    "def build_chain(group):\n",
    "    chains = []\n",
    "    current_chain = [group['grid_id_o'].iloc[0]]\n",
    "    \n",
    "    for i in range(len(group) - 1):\n",
    "        current_chain.append(group['grid_id_d'].iloc[i])\n",
    "        # Check if the next 'o' is different from the current 'd'\n",
    "        if group['grid_id_d'].iloc[i] != group['grid_id_o'].iloc[i + 1]:\n",
    "            chains.append(current_chain)\n",
    "            current_chain = [group['grid_id_o'].iloc[i + 1]]\n",
    "    \n",
    "    # Append the last destination and the final chain\n",
    "    current_chain.append(group['grid_id_d'].iloc[-1])\n",
    "    chains.append(current_chain)\n",
    "    \n",
    "    return chains\n",
    "\n",
    "def build_id_chain(group):\n",
    "    chains = []\n",
    "    current_chain = [group['grid_new_o'].iloc[0]]\n",
    "    \n",
    "    for i in range(len(group) - 1):\n",
    "        current_chain.append(group['grid_new_d'].iloc[i])\n",
    "        # Check if the next 'o' is different from the current 'd'\n",
    "        if group['grid_new_d'].iloc[i] != group['grid_new_o'].iloc[i + 1]:\n",
    "            chains.append(current_chain)\n",
    "            current_chain = [group['grid_new_o'].iloc[i + 1]]\n",
    "    \n",
    "    # Append the last destination and the final chain\n",
    "    current_chain.append(group['grid_new_d'].iloc[-1])\n",
    "    chains.append(current_chain)\n",
    "    \n",
    "    return chains\n",
    "\n",
    "def build_both_chains(group):\n",
    "    travel_chain = build_chain(group)\n",
    "    id_chain = build_id_chain(group)\n",
    "    return pd.Series({'travel_chain': travel_chain, 'id_chain': id_chain})"
   ]
  },
  {
   "cell_type": "code",
   "execution_count": 5,
   "metadata": {},
   "outputs": [],
   "source": [
    "# Group by 'date' and apply the chain-building function\n",
    "grouped1 = df[df['date']<df['migrt']]\n",
    "grouped2 = df[df['date']>df['migrt']]\n",
    "grouped1 = grouped1.groupby('date').apply(build_both_chains).reset_index()\n",
    "grouped2 = grouped2.groupby('date').apply(build_both_chains).reset_index()"
   ]
  },
  {
   "cell_type": "code",
   "execution_count": 6,
   "metadata": {},
   "outputs": [],
   "source": [
    "# Define the namedtuple type\n",
    "TravelData = namedtuple('TravelChain', ['date', 'travel_chain','id_chain'])"
   ]
  },
  {
   "cell_type": "code",
   "execution_count": 7,
   "metadata": {},
   "outputs": [],
   "source": [
    "# Convert each row to a namedtuple\n",
    "namedtuples_list1 = [TravelData(row.date, row.travel_chain[0], row.id_chain[0]) for _, row in grouped1.iterrows()]\n",
    "namedtuples_list2 = [TravelData(row.date, row.travel_chain[0], row.id_chain[0]) for _, row in grouped2.iterrows()]\n",
    "namedtuples_all = namedtuples_list1+namedtuples_list2"
   ]
  },
  {
   "cell_type": "code",
   "execution_count": 8,
   "metadata": {},
   "outputs": [],
   "source": [
    "def int64_converter(obj):\n",
    "    if isinstance(obj, np.int64):\n",
    "        return int(obj)\n",
    "    raise TypeError\n",
    "\n",
    "dicts_list1 = [nt._asdict() for nt in namedtuples_list1]\n",
    "with open('../data/before_migrt.json', 'w') as file:\n",
    "    json.dump(dicts_list1, file, indent=4,default=int64_converter)\n",
    "\n",
    "dicts_list2 = [nt._asdict() for nt in namedtuples_list2]\n",
    "with open('../data/after_migrt.json', 'w') as file:\n",
    "    json.dump(dicts_list2, file, indent=4,default=int64_converter)\n",
    "\n",
    "dicts_list_all = [nt._asdict() for nt in namedtuples_all]\n",
    "with open('../data/all_traj.json', 'w') as file:\n",
    "    json.dump(dicts_list_all, file, indent=4,default=int64_converter)"
   ]
  },
  {
   "cell_type": "code",
   "execution_count": 9,
   "metadata": {},
   "outputs": [],
   "source": [
    "with open('../data/all_traj.json', 'r') as file:\n",
    "    loaded_dicts_all = json.load(file)\n",
    "loaded_namedtuples_all = [TravelData(**d) for d in loaded_dicts_all]"
   ]
  }
 ],
 "metadata": {
  "kernelspec": {
   "display_name": "jax",
   "language": "python",
   "name": "python3"
  },
  "language_info": {
   "codemirror_mode": {
    "name": "ipython",
    "version": 3
   },
   "file_extension": ".py",
   "mimetype": "text/x-python",
   "name": "python",
   "nbconvert_exporter": "python",
   "pygments_lexer": "ipython3",
   "version": "3.9.12"
  }
 },
 "nbformat": 4,
 "nbformat_minor": 2
}
