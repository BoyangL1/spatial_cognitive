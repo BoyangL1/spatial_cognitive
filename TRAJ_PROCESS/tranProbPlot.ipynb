{
 "cells": [
  {
   "cell_type": "code",
   "execution_count": null,
   "metadata": {},
   "outputs": [],
   "source": [
    "import pandas as pd\n",
    "import geopandas as gpd\n",
    "import networkx as nx\n",
    "import os\n",
    "import matplotlib.pyplot as plt\n",
    "import numpy as np\n",
    "from tqdm import tqdm\n",
    "import warnings \n",
    "import random\n",
    "warnings.filterwarnings('ignore')"
   ]
  },
  {
   "cell_type": "code",
   "execution_count": null,
   "metadata": {},
   "outputs": [],
   "source": [
    "shenzhen_grid = gpd.read_file('../data/shenzhen_grid/shenzhen_grid.shp')"
   ]
  },
  {
   "cell_type": "code",
   "execution_count": null,
   "metadata": {},
   "outputs": [],
   "source": [
    "def convertStoT(coord_str):\n",
    "    coord_str = coord_str.strip(\"()\")\n",
    "\n",
    "    coord_parts = coord_str.split(',')\n",
    "    coord = (float(coord_parts[0]), float(coord_parts[1]))\n",
    "\n",
    "    return coord\n",
    "\n",
    "def draw_pentagram(ax, position, size=0.01, color='red'):\n",
    "    # Points of a regular pentagon\n",
    "    pentagon = np.array([[np.cos(2 * np.pi * i / 5), np.sin(2 * np.pi * i / 5)] for i in range(5)])\n",
    "    pentagon = size * pentagon + position\n",
    "\n",
    "    # Draw lines for the star\n",
    "    for i in range(5):\n",
    "        start = pentagon[i]\n",
    "        end = pentagon[(i + 2) % 5]\n",
    "        ax.plot([start[0], end[0]], [start[1], end[1]], color=color)\n",
    "\n",
    "def drawNetworkOnMap(shenzhen_grid, csv_path, save_path,num_edges=1, alpha=0.2, node_size=20):\n",
    "    data = pd.read_csv(csv_path, header=0)\n",
    "    \n",
    "    # Create a graph from the CSV data\n",
    "    G = nx.Graph()\n",
    "    for index, row in data.iterrows():\n",
    "        coords_str = row[0]\n",
    "        G.add_node(coords_str, pos=convertStoT(coords_str))\n",
    "\n",
    "        sorted_indices = row[1:].argsort()[::-1]\n",
    "        count = 0  \n",
    "        for i in sorted_indices:\n",
    "            # shift right 1\n",
    "            connected_coords_str = data.columns[i+1]\n",
    "            if row[i+1] != 0 and connected_coords_str != \"no action\":\n",
    "                weight_value = row[i+1]\n",
    "                G.add_edge(coords_str, connected_coords_str, weight=weight_value)\n",
    "                count += 1\n",
    "            if count == num_edges:\n",
    "                break\n",
    "    \n",
    "    # Extract and scale weights for the edges\n",
    "    weights = [G[u][v]['weight'] for u, v in G.edges()]\n",
    "    max_absolute_weight = max(abs(w) for w in weights)\n",
    "    normalized_weights = [(w + max_absolute_weight) / (2 * max_absolute_weight) for w in weights]\n",
    "    scaled_weights = [5 * nw for nw in normalized_weights]\n",
    "    pos = nx.get_node_attributes(G, 'pos')\n",
    "    \n",
    "    # Plot the network on the map\n",
    "    f, ax = plt.subplots(1, 1, figsize=(20, 20))\n",
    "    nx.draw_networkx_nodes(G, pos, ax=ax, node_size=node_size)\n",
    "    nx.draw_networkx_edges(G, pos, width=scaled_weights, edge_color=scaled_weights, arrows=True, ax=ax)\n",
    "    shenzhen_grid.plot(ax=ax, linewidth=1, alpha=alpha)\n",
    "\n",
    "    draw_pentagram(ax, (114.03492647904385, 22.62162272422277))\n",
    "    draw_pentagram(ax, (114.10926793627344, 22.53526575221365))\n",
    "    plt.savefig(save_path)"
   ]
  },
  {
   "cell_type": "code",
   "execution_count": null,
   "metadata": {},
   "outputs": [],
   "source": [
    "drawNetworkOnMap(shenzhen_grid, '../data/before_migrt_transProb.csv','../data/after_migrt/before_migrt.png', num_edges=1, alpha=0.2, node_size=20)"
   ]
  },
  {
   "cell_type": "markdown",
   "metadata": {},
   "source": [
    "# After migration trans plot"
   ]
  },
  {
   "cell_type": "code",
   "execution_count": null,
   "metadata": {},
   "outputs": [],
   "source": [
    "def drawNetworkAfterOnMap(shenzhen_grid, csv_path, save_path, before_coords_set, num_edges=1, alpha=0.2, node_size=20):\n",
    "    data = pd.read_csv(csv_path, header=0)\n",
    "    \n",
    "    # Create a graph from the CSV data\n",
    "    G = nx.Graph()\n",
    "    for index, row in data.iterrows():\n",
    "        coords_str = row[0]\n",
    "        G.add_node(coords_str, pos=convertStoT(coords_str))\n",
    "        if coords_str in before_coords_set:\n",
    "            continue\n",
    "\n",
    "        sorted_indices = row[1:].argsort()[::-1][:10]\n",
    "        edges = []\n",
    "        for i in sorted_indices:\n",
    "            connected_coords_str = data.columns[i+1]\n",
    "            if row[i+1] != 0 and connected_coords_str != \"no action\":\n",
    "                weight_value = row[i+1]\n",
    "                edges.append((connected_coords_str, weight_value))\n",
    "\n",
    "        # If there are edges, randomly select one and add it\n",
    "        if edges:\n",
    "            selected_edge = random.choice(edges)\n",
    "            G.add_edge(coords_str, selected_edge[0], weight=selected_edge[1])\n",
    "    \n",
    "    # Extract and scale weights for the edges\n",
    "    weights = [G[u][v]['weight'] for u, v in G.edges()]\n",
    "    max_absolute_weight = max(abs(w) for w in weights)\n",
    "    normalized_weights = [(w + max_absolute_weight) / (2 * max_absolute_weight) for w in weights]\n",
    "    scaled_weights = [5 * nw for nw in normalized_weights]\n",
    "    pos = nx.get_node_attributes(G, 'pos')\n",
    "    \n",
    "    # Plot the network on the map\n",
    "    f, ax = plt.subplots(1, 1, figsize=(20, 20))\n",
    "    nx.draw_networkx_nodes(G, pos, ax=ax, node_size=node_size)\n",
    "    nx.draw_networkx_edges(G, pos, width=scaled_weights, edge_color=scaled_weights, arrows=True, ax=ax)\n",
    "    shenzhen_grid.plot(ax=ax, linewidth=1, alpha=alpha)\n",
    "\n",
    "    draw_pentagram(ax, (114.03492647904385, 22.62162272422277))\n",
    "    draw_pentagram(ax, (114.10926793627344, 22.53526575221365))\n",
    "    plt.savefig(save_path)"
   ]
  },
  {
   "cell_type": "code",
   "execution_count": null,
   "metadata": {},
   "outputs": [],
   "source": [
    "one_df=pd.read_csv('../data/one_travel_chain.csv')\n",
    "one_df['origin_point'] = list(zip(one_df['lambda_o'],one_df['phi_o']))\n",
    "one_df['destination_point'] = list(zip(one_df['lambda_d'],one_df['phi_d']))\n",
    "df_before_migrt = one_df[one_df['date'] < one_df['migrt']]\n",
    "df_after_migrt = one_df[one_df['date']>one_df['migrt']]\n",
    "\n",
    "before_migrt_set,after_migrt_set = set(),set()\n",
    "before_migrt_set.update(df_before_migrt['origin_point'].to_list())\n",
    "before_migrt_set.update(df_before_migrt['destination_point'].tolist())\n",
    "after_migrt_set.update(df_after_migrt['origin_point'].tolist())\n",
    "after_migrt_set.update(df_after_migrt['destination_point'].tolist())\n",
    "\n",
    "only_before = before_migrt_set - after_migrt_set\n",
    "\n",
    "def tuple_to_string(coord_tuple):\n",
    "    return f\"({coord_tuple[0]}, {coord_tuple[1]})\"\n",
    "\n",
    "only_before_str = [tuple_to_string(coord) for coord in only_before]"
   ]
  },
  {
   "cell_type": "code",
   "execution_count": null,
   "metadata": {},
   "outputs": [],
   "source": [
    "directory = '../data/after_migrt/transProb'\n",
    "save_directory = '../data/after_migrt/img/'\n",
    "\n",
    "if not os.path.exists(save_directory):\n",
    "    os.makedirs(save_directory)\n",
    "    \n",
    "for f in tqdm(os.listdir(directory)):\n",
    "    csv_path = os.path.join(directory, f)\n",
    "    save_path = os.path.join(save_directory, f.replace('.csv', '.png'))\n",
    "    drawNetworkAfterOnMap(shenzhen_grid, csv_path,save_path, only_before_str, num_edges=1, alpha=0.2, node_size=20)"
   ]
  },
  {
   "cell_type": "code",
   "execution_count": null,
   "metadata": {},
   "outputs": [],
   "source": [
    "import imageio\n",
    "import glob\n",
    "\n",
    "file_names = [ '../data/after_migrt/before_migrt.png' ] + sorted(glob.glob('../data/after_migrt/img/*.png'))\n",
    "\n",
    "images = [imageio.imread(file_name) for file_name in file_names]\n",
    "imageio.mimsave('../img/cognitive_map.gif', images, duration=0.3) "
   ]
  }
 ],
 "metadata": {
  "kernelspec": {
   "display_name": "base",
   "language": "python",
   "name": "python3"
  },
  "language_info": {
   "codemirror_mode": {
    "name": "ipython",
    "version": 3
   },
   "file_extension": ".py",
   "mimetype": "text/x-python",
   "name": "python",
   "nbconvert_exporter": "python",
   "pygments_lexer": "ipython3",
   "version": "3.10.13"
  }
 },
 "nbformat": 4,
 "nbformat_minor": 2
}
